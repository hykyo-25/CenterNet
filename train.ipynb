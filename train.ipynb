{
 "cells": [
  {
   "cell_type": "code",
   "execution_count": 1,
   "id": "6650a14e",
   "metadata": {},
   "outputs": [
    {
     "name": "stdout",
     "output_type": "stream",
     "text": [
      "/workspace/CenterNet/CenterNet/src\n",
      "\u001b[0m\u001b[01;34m__pycache__\u001b[0m/  _init_paths.py  demo.py  \u001b[01;34mlib\u001b[0m/  \u001b[01;32mmain.py\u001b[0m*  \u001b[01;32mtest.py\u001b[0m*  \u001b[01;34mtools\u001b[0m/\r\n"
     ]
    }
   ],
   "source": [
    "%cd src\n",
    "%ls"
   ]
  },
  {
   "cell_type": "code",
   "execution_count": 5,
   "id": "ad882a52",
   "metadata": {},
   "outputs": [],
   "source": [
    "# !pip install numba"
   ]
  },
  {
   "cell_type": "code",
   "execution_count": null,
   "id": "4011451c",
   "metadata": {},
   "outputs": [
    {
     "name": "stdout",
     "output_type": "stream",
     "text": [
      "Fix size testing.\n",
      "training chunk_sizes: [15]\n",
      "The output will be saved to  /workspace/CenterNet/CenterNet/src/lib/../../exp/ctdet/resattention\n",
      "heads {'hm': 80, 'wh': 2, 'reg': 2}\n",
      "Namespace(K=100, aggr_weight=0.0, agnostic_ex=False, arch='resattention', aug_ddd=0.5, aug_rot=0, batch_size=4, cat_spec_wh=False, center_thresh=0.1, chunk_sizes=[15], data_dir='/workspace/CenterNet/CenterNet/src/lib/../../data', dataset='coco', debug=0, debug_dir='/workspace/CenterNet/CenterNet/src/lib/../../exp/ctdet/resattention/debug', debugger_theme='white', demo='', dense_hp=False, dense_wh=False, dep_weight=1, dim_weight=1, down_ratio=4, eval_oracle_dep=False, eval_oracle_hm=False, eval_oracle_hmhp=False, eval_oracle_hp_offset=False, eval_oracle_kps=False, eval_oracle_offset=False, eval_oracle_wh=False, exp_dir='/workspace/CenterNet/CenterNet/src/lib/../../exp/ctdet', exp_id='resattention', fix_res=True, flip=0.5, flip_test=False, gpus=[0], gpus_str='0', head_conv=64, heads={'hm': 80, 'wh': 2, 'reg': 2}, hide_data_time=False, hm_hp=True, hm_hp_weight=1, hm_weight=1, hp_weight=1, input_h=512, input_res=512, input_w=512, keep_res=False, kitti_split='3dop', load_model='', lr=0.000125, lr_step=[90, 120], master_batch_size=15, mean=array([[[0.40789655, 0.44719303, 0.47026116]]], dtype=float32), metric='loss', mse_loss=False, my_test=False, nms=False, no_color_aug=False, norm_wh=False, not_cuda_benchmark=False, not_hm_hp=False, not_prefetch_test=False, not_rand_crop=False, not_reg_bbox=False, not_reg_hp_offset=False, not_reg_offset=False, num_classes=80, num_epochs=140, num_iters=-1, num_stacks=1, num_workers=0, off_weight=1, output_h=128, output_res=128, output_w=128, pad=31, peak_thresh=0.2, print_iter=0, rect_mask=False, reg_bbox=True, reg_hp_offset=True, reg_loss='l1', reg_offset=True, resume=False, root_dir='/workspace/CenterNet/CenterNet/src/lib/../..', rot_weight=1, rotate=0, save_all=False, save_dir='/workspace/CenterNet/CenterNet/src/lib/../../exp/ctdet/resattention', scale=0.4, scores_thresh=0.1, seed=317, shift=0.1, std=array([[[0.2886383 , 0.27408165, 0.27809834]]], dtype=float32), task='ctdet', test=False, test_scales=[1.0], trainval=False, val_intervals=5, vis_thresh=0.3, wh_weight=0.1)\n",
      "Creating model...\n",
      "=> loading pretrained model https://github.com/zhanghang1989/ResNeSt/releases/download/weights_step1/resnest101-22405ba7.pth\n",
      "=> init deconv weights from normal distribution\n",
      "Setting up data...\n",
      "==> initializing coco 2017 val data.\n",
      "loading annotations into memory...\n",
      "Done (t=0.36s)\n",
      "creating index...\n",
      "index created!\n",
      "Loaded val 5000 samples\n",
      "==> initializing coco 2017 train data.\n",
      "loading annotations into memory...\n",
      "Done (t=11.33s)\n",
      "creating index...\n",
      "index created!\n",
      "Loaded train 118287 samples\n",
      "Starting training...\n",
      "/workspace/.env/lib/python3.8/site-packages/torch/nn/_reduction.py:44: UserWarning: size_average and reduce args will be deprecated, please use reduction='sum' instead.\n",
      "  warnings.warn(warning.format(ret))\n",
      "ctdet/resattention |################################| train: [1][29570/29571]|Tot: 4:28:04 |ETA: 0:00:01 |loss 6.2782 |hm_loss 4.5035 |wh_loss 15.2462 |off_loss 0.2501 |Data 0.128s(0.131s) |Net 0.544s       \n",
      "ctdet/resattention |##############################  | train: [2][27881/29571]|Tot: 4:09:04 |ETA: 0:15:31 |loss 5.4248 |hm_loss 3.8630 |wh_loss 13.1266 |off_loss 0.2492 |Data 0.133s(0.123s) |Net 0.536s"
     ]
    }
   ],
   "source": [
    "!python main.py ctdet --exp_id resattention --arch resattention --batch_size 4 --num_workers 0 --master_batch 15 --lr 1.25e-4"
   ]
  }
 ],
 "metadata": {
  "kernelspec": {
   "display_name": "Python 3 (ipykernel)",
   "language": "python",
   "name": "python3"
  },
  "language_info": {
   "codemirror_mode": {
    "name": "ipython",
    "version": 3
   },
   "file_extension": ".py",
   "mimetype": "text/x-python",
   "name": "python",
   "nbconvert_exporter": "python",
   "pygments_lexer": "ipython3",
   "version": "3.8.4"
  }
 },
 "nbformat": 4,
 "nbformat_minor": 5
}
